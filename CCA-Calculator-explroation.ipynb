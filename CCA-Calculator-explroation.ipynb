{
 "cells": [
  {
   "cell_type": "code",
   "execution_count": null,
   "metadata": {},
   "outputs": [],
   "source": [
    "import pandas as pd\n",
    "import numpy as np\n",
    "\n",
    "print(\"Hello world\")"
   ]
  }
 ],
 "metadata": {
  "kernelspec": {
   "display_name": "ccajupyterenv",
   "language": "python",
   "name": "ccajupyterenv"
  }
 },
 "nbformat": 4,
 "nbformat_minor": 4
}
